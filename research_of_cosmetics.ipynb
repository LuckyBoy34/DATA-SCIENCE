{
 "cells": [
  {
   "cell_type": "code",
   "execution_count": 15,
   "id": "b83b360a",
   "metadata": {},
   "outputs": [],
   "source": [
    "import numpy as np\n",
    "import pandas as pd\n",
    "import matplotlib.pyplot as plt \n",
    "  \n"
   ]
  },
  {
   "cell_type": "code",
   "execution_count": 2,
   "id": "376a15c5",
   "metadata": {},
   "outputs": [
    {
     "data": {
      "text/html": [
       "<div>\n",
       "<style scoped>\n",
       "    .dataframe tbody tr th:only-of-type {\n",
       "        vertical-align: middle;\n",
       "    }\n",
       "\n",
       "    .dataframe tbody tr th {\n",
       "        vertical-align: top;\n",
       "    }\n",
       "\n",
       "    .dataframe thead th {\n",
       "        text-align: right;\n",
       "    }\n",
       "</style>\n",
       "<table border=\"1\" class=\"dataframe\">\n",
       "  <thead>\n",
       "    <tr style=\"text-align: right;\">\n",
       "      <th></th>\n",
       "      <th>id</th>\n",
       "      <th>brand</th>\n",
       "      <th>name</th>\n",
       "      <th>price</th>\n",
       "      <th>price_sign</th>\n",
       "      <th>currency</th>\n",
       "      <th>image_link</th>\n",
       "      <th>product_link</th>\n",
       "      <th>website_link</th>\n",
       "      <th>description</th>\n",
       "      <th>rating</th>\n",
       "      <th>category</th>\n",
       "      <th>product_type</th>\n",
       "      <th>tag_list</th>\n",
       "      <th>created_at</th>\n",
       "      <th>updated_at</th>\n",
       "      <th>product_api_url</th>\n",
       "      <th>api_featured_image</th>\n",
       "      <th>product_colors</th>\n",
       "    </tr>\n",
       "  </thead>\n",
       "  <tbody>\n",
       "    <tr>\n",
       "      <th>0</th>\n",
       "      <td>1048</td>\n",
       "      <td>colourpop</td>\n",
       "      <td>Lippie Pencil</td>\n",
       "      <td>5.0</td>\n",
       "      <td>$</td>\n",
       "      <td>CAD</td>\n",
       "      <td>https://cdn.shopify.com/s/files/1/1338/0845/co...</td>\n",
       "      <td>https://colourpop.com/collections/lippie-pencil</td>\n",
       "      <td>https://colourpop.com</td>\n",
       "      <td>Lippie Pencil A long-wearing and high-intensit...</td>\n",
       "      <td>NaN</td>\n",
       "      <td>pencil</td>\n",
       "      <td>lip_liner</td>\n",
       "      <td>['cruelty free', 'Vegan']</td>\n",
       "      <td>2018-07-08T23:45:08.056Z</td>\n",
       "      <td>2018-07-09T00:53:23.301Z</td>\n",
       "      <td>http://makeup-api.herokuapp.com/api/v1/product...</td>\n",
       "      <td>//s3.amazonaws.com/donovanbailey/products/api_...</td>\n",
       "      <td>[{'hex_value': '#B28378', 'colour_name': 'BFF ...</td>\n",
       "    </tr>\n",
       "    <tr>\n",
       "      <th>1</th>\n",
       "      <td>1047</td>\n",
       "      <td>colourpop</td>\n",
       "      <td>Blotted Lip</td>\n",
       "      <td>5.5</td>\n",
       "      <td>$</td>\n",
       "      <td>CAD</td>\n",
       "      <td>https://cdn.shopify.com/s/files/1/1338/0845/pr...</td>\n",
       "      <td>https://colourpop.com/collections/lippie-stix?...</td>\n",
       "      <td>https://colourpop.com</td>\n",
       "      <td>Blotted Lip Sheer matte lipstick that creates ...</td>\n",
       "      <td>NaN</td>\n",
       "      <td>lipstick</td>\n",
       "      <td>lipstick</td>\n",
       "      <td>['cruelty free', 'Vegan']</td>\n",
       "      <td>2018-07-08T22:01:20.178Z</td>\n",
       "      <td>2018-07-09T00:53:23.287Z</td>\n",
       "      <td>http://makeup-api.herokuapp.com/api/v1/product...</td>\n",
       "      <td>//s3.amazonaws.com/donovanbailey/products/api_...</td>\n",
       "      <td>[{'hex_value': '#b72227', 'colour_name': \"Bee'...</td>\n",
       "    </tr>\n",
       "    <tr>\n",
       "      <th>2</th>\n",
       "      <td>1046</td>\n",
       "      <td>colourpop</td>\n",
       "      <td>Lippie Stix</td>\n",
       "      <td>5.5</td>\n",
       "      <td>$</td>\n",
       "      <td>CAD</td>\n",
       "      <td>https://cdn.shopify.com/s/files/1/1338/0845/co...</td>\n",
       "      <td>https://colourpop.com/collections/lippie-stix</td>\n",
       "      <td>https://colourpop.com</td>\n",
       "      <td>Lippie Stix Formula contains Vitamin E, Mango,...</td>\n",
       "      <td>NaN</td>\n",
       "      <td>lipstick</td>\n",
       "      <td>lipstick</td>\n",
       "      <td>['cruelty free', 'Vegan']</td>\n",
       "      <td>2018-07-08T21:47:49.858Z</td>\n",
       "      <td>2018-07-09T00:53:23.274Z</td>\n",
       "      <td>http://makeup-api.herokuapp.com/api/v1/product...</td>\n",
       "      <td>//s3.amazonaws.com/donovanbailey/products/api_...</td>\n",
       "      <td>[{'hex_value': '#F2DEC3', 'colour_name': 'Fair...</td>\n",
       "    </tr>\n",
       "    <tr>\n",
       "      <th>3</th>\n",
       "      <td>1045</td>\n",
       "      <td>colourpop</td>\n",
       "      <td>No Filter Foundation</td>\n",
       "      <td>12.0</td>\n",
       "      <td>$</td>\n",
       "      <td>CAD</td>\n",
       "      <td>https://cdn.shopify.com/s/files/1/1338/0845/pr...</td>\n",
       "      <td>https://colourpop.com/products/no-filter-matte...</td>\n",
       "      <td>https://colourpop.com/products/no-filter-matte...</td>\n",
       "      <td>Developed for the Selfie Age, our buildable fu...</td>\n",
       "      <td>NaN</td>\n",
       "      <td>liquid</td>\n",
       "      <td>foundation</td>\n",
       "      <td>['cruelty free', 'Vegan']</td>\n",
       "      <td>2018-07-08T18:22:25.273Z</td>\n",
       "      <td>2018-07-09T00:53:23.313Z</td>\n",
       "      <td>http://makeup-api.herokuapp.com/api/v1/product...</td>\n",
       "      <td>//s3.amazonaws.com/donovanbailey/products/api_...</td>\n",
       "      <td>[{'hex_value': '#F2DEC3', 'colour_name': 'Fair...</td>\n",
       "    </tr>\n",
       "    <tr>\n",
       "      <th>4</th>\n",
       "      <td>1044</td>\n",
       "      <td>boosh</td>\n",
       "      <td>Lipstick</td>\n",
       "      <td>26.0</td>\n",
       "      <td>$</td>\n",
       "      <td>CAD</td>\n",
       "      <td>https://cdn.shopify.com/s/files/1/1016/3243/pr...</td>\n",
       "      <td>https://www.boosh.ca/collections/all</td>\n",
       "      <td>https://www.boosh.ca/</td>\n",
       "      <td>All of our products are free from lead and hea...</td>\n",
       "      <td>NaN</td>\n",
       "      <td>lipstick</td>\n",
       "      <td>lipstick</td>\n",
       "      <td>['Chemical Free', 'Organic']</td>\n",
       "      <td>2018-07-08T17:32:28.088Z</td>\n",
       "      <td>2018-09-02T22:52:06.669Z</td>\n",
       "      <td>http://makeup-api.herokuapp.com/api/v1/product...</td>\n",
       "      <td>//s3.amazonaws.com/donovanbailey/products/api_...</td>\n",
       "      <td>[{'hex_value': '#CB4975', 'colour_name': 'Babs...</td>\n",
       "    </tr>\n",
       "    <tr>\n",
       "      <th>5</th>\n",
       "      <td>1043</td>\n",
       "      <td>deciem</td>\n",
       "      <td>Serum Foundation</td>\n",
       "      <td>6.7</td>\n",
       "      <td>$</td>\n",
       "      <td>CAD</td>\n",
       "      <td>https://3bc01d2807fb1bc0d25c-a86d2521f1af89898...</td>\n",
       "      <td>https://deciem.com/product/rdn-serum-foundatio...</td>\n",
       "      <td>https://deciem.com/</td>\n",
       "      <td>Serum Foundations are lightweight medium-cover...</td>\n",
       "      <td>NaN</td>\n",
       "      <td>liquid</td>\n",
       "      <td>foundation</td>\n",
       "      <td>['water free', 'cruelty free', 'alcohol free',...</td>\n",
       "      <td>2018-07-06T23:16:12.698Z</td>\n",
       "      <td>2018-09-02T22:52:06.882Z</td>\n",
       "      <td>http://makeup-api.herokuapp.com/api/v1/product...</td>\n",
       "      <td>//s3.amazonaws.com/donovanbailey/products/api_...</td>\n",
       "      <td>[{'hex_value': '#f4e5d6', 'colour_name': '1.0P...</td>\n",
       "    </tr>\n",
       "    <tr>\n",
       "      <th>6</th>\n",
       "      <td>1042</td>\n",
       "      <td>deciem</td>\n",
       "      <td>Coverage Foundation</td>\n",
       "      <td>6.9</td>\n",
       "      <td>$</td>\n",
       "      <td>CAD</td>\n",
       "      <td>https://3bc01d2807fb1bc0d25c-a86d2521f1af89898...</td>\n",
       "      <td>https://deciem.com/product/rdn-coverage-founda...</td>\n",
       "      <td>https://deciem.com/</td>\n",
       "      <td>Coverage Foundations are full-coverage formula...</td>\n",
       "      <td>NaN</td>\n",
       "      <td>liquid</td>\n",
       "      <td>foundation</td>\n",
       "      <td>['water free', 'cruelty free', 'alcohol free',...</td>\n",
       "      <td>2018-07-06T22:27:54.541Z</td>\n",
       "      <td>2018-09-02T22:52:06.865Z</td>\n",
       "      <td>http://makeup-api.herokuapp.com/api/v1/product...</td>\n",
       "      <td>//s3.amazonaws.com/donovanbailey/products/api_...</td>\n",
       "      <td>[{'hex_value': '#f4e5d6', 'colour_name': '1.0P...</td>\n",
       "    </tr>\n",
       "    <tr>\n",
       "      <th>7</th>\n",
       "      <td>1041</td>\n",
       "      <td>zorah biocosmetiques</td>\n",
       "      <td>Liquid Liner</td>\n",
       "      <td>0.0</td>\n",
       "      <td>$</td>\n",
       "      <td>USD</td>\n",
       "      <td>https://www.purpicks.com/wp-content/uploads/20...</td>\n",
       "      <td>https://www.purpicks.com/product/zorah-biocosm...</td>\n",
       "      <td>https://purpicks.com/</td>\n",
       "      <td>&lt;strong&gt;12 hours of long-lasting&lt;/strong&gt; inte...</td>\n",
       "      <td>NaN</td>\n",
       "      <td>liquid</td>\n",
       "      <td>eyeliner</td>\n",
       "      <td>['purpicks', 'EcoCert']</td>\n",
       "      <td>2018-06-30T19:19:32.312Z</td>\n",
       "      <td>2018-09-02T22:52:06.723Z</td>\n",
       "      <td>http://makeup-api.herokuapp.com/api/v1/product...</td>\n",
       "      <td>//s3.amazonaws.com/donovanbailey/products/api_...</td>\n",
       "      <td>[{'hex_value': '#000000', 'colour_name': 'Blac...</td>\n",
       "    </tr>\n",
       "    <tr>\n",
       "      <th>8</th>\n",
       "      <td>1040</td>\n",
       "      <td>zorah biocosmetiques</td>\n",
       "      <td>Eyeshadow</td>\n",
       "      <td>0.0</td>\n",
       "      <td>$</td>\n",
       "      <td>USD</td>\n",
       "      <td>https://www.purpicks.com/wp-content/uploads/20...</td>\n",
       "      <td>https://www.purpicks.com/product/zorah-eyeshadow/</td>\n",
       "      <td>https://purpicks.com/</td>\n",
       "      <td>&lt;strong&gt;Product Description&lt;/strong&gt;Anti-aging...</td>\n",
       "      <td>NaN</td>\n",
       "      <td>NaN</td>\n",
       "      <td>eyeshadow</td>\n",
       "      <td>['purpicks', 'EcoCert']</td>\n",
       "      <td>2018-06-30T19:19:32.252Z</td>\n",
       "      <td>2018-09-02T22:52:06.714Z</td>\n",
       "      <td>http://makeup-api.herokuapp.com/api/v1/product...</td>\n",
       "      <td>//s3.amazonaws.com/donovanbailey/products/api_...</td>\n",
       "      <td>[{'hex_value': '#966A54', 'colour_name': 'Saha...</td>\n",
       "    </tr>\n",
       "    <tr>\n",
       "      <th>9</th>\n",
       "      <td>1039</td>\n",
       "      <td>w3llpeople</td>\n",
       "      <td>Realist Invisible Setting Powder</td>\n",
       "      <td>0.0</td>\n",
       "      <td>$</td>\n",
       "      <td>USD</td>\n",
       "      <td>https://www.purpicks.com/wp-content/uploads/20...</td>\n",
       "      <td>https://www.purpicks.com/product/w3llpeople-re...</td>\n",
       "      <td>https://purpicks.com/</td>\n",
       "      <td>&lt;span style=\"font-weight: 400;\"&gt;Keep it real w...</td>\n",
       "      <td>NaN</td>\n",
       "      <td>powder</td>\n",
       "      <td>foundation</td>\n",
       "      <td>['purpicks', 'EWG Verified', 'Gluten Free']</td>\n",
       "      <td>2018-06-30T19:19:32.191Z</td>\n",
       "      <td>2018-06-30T20:26:26.417Z</td>\n",
       "      <td>http://makeup-api.herokuapp.com/api/v1/product...</td>\n",
       "      <td>//s3.amazonaws.com/donovanbailey/products/api_...</td>\n",
       "      <td>[{'hex_value': '#E8E6E7', 'colour_name': 'Tran...</td>\n",
       "    </tr>\n",
       "  </tbody>\n",
       "</table>\n",
       "</div>"
      ],
      "text/plain": [
       "     id                 brand                               name  price  \\\n",
       "0  1048             colourpop                      Lippie Pencil    5.0   \n",
       "1  1047             colourpop                        Blotted Lip    5.5   \n",
       "2  1046             colourpop                        Lippie Stix    5.5   \n",
       "3  1045             colourpop               No Filter Foundation   12.0   \n",
       "4  1044                 boosh                           Lipstick   26.0   \n",
       "5  1043                deciem                   Serum Foundation    6.7   \n",
       "6  1042                deciem                Coverage Foundation    6.9   \n",
       "7  1041  zorah biocosmetiques                       Liquid Liner    0.0   \n",
       "8  1040  zorah biocosmetiques                          Eyeshadow    0.0   \n",
       "9  1039            w3llpeople   Realist Invisible Setting Powder    0.0   \n",
       "\n",
       "  price_sign currency                                         image_link  \\\n",
       "0          $      CAD  https://cdn.shopify.com/s/files/1/1338/0845/co...   \n",
       "1          $      CAD  https://cdn.shopify.com/s/files/1/1338/0845/pr...   \n",
       "2          $      CAD  https://cdn.shopify.com/s/files/1/1338/0845/co...   \n",
       "3          $      CAD  https://cdn.shopify.com/s/files/1/1338/0845/pr...   \n",
       "4          $      CAD  https://cdn.shopify.com/s/files/1/1016/3243/pr...   \n",
       "5          $      CAD  https://3bc01d2807fb1bc0d25c-a86d2521f1af89898...   \n",
       "6          $      CAD  https://3bc01d2807fb1bc0d25c-a86d2521f1af89898...   \n",
       "7          $      USD  https://www.purpicks.com/wp-content/uploads/20...   \n",
       "8          $      USD  https://www.purpicks.com/wp-content/uploads/20...   \n",
       "9          $      USD  https://www.purpicks.com/wp-content/uploads/20...   \n",
       "\n",
       "                                        product_link  \\\n",
       "0    https://colourpop.com/collections/lippie-pencil   \n",
       "1  https://colourpop.com/collections/lippie-stix?...   \n",
       "2      https://colourpop.com/collections/lippie-stix   \n",
       "3  https://colourpop.com/products/no-filter-matte...   \n",
       "4               https://www.boosh.ca/collections/all   \n",
       "5  https://deciem.com/product/rdn-serum-foundatio...   \n",
       "6  https://deciem.com/product/rdn-coverage-founda...   \n",
       "7  https://www.purpicks.com/product/zorah-biocosm...   \n",
       "8  https://www.purpicks.com/product/zorah-eyeshadow/   \n",
       "9  https://www.purpicks.com/product/w3llpeople-re...   \n",
       "\n",
       "                                        website_link  \\\n",
       "0                              https://colourpop.com   \n",
       "1                              https://colourpop.com   \n",
       "2                              https://colourpop.com   \n",
       "3  https://colourpop.com/products/no-filter-matte...   \n",
       "4                              https://www.boosh.ca/   \n",
       "5                                https://deciem.com/   \n",
       "6                                https://deciem.com/   \n",
       "7                              https://purpicks.com/   \n",
       "8                              https://purpicks.com/   \n",
       "9                              https://purpicks.com/   \n",
       "\n",
       "                                         description  rating  category  \\\n",
       "0  Lippie Pencil A long-wearing and high-intensit...     NaN    pencil   \n",
       "1  Blotted Lip Sheer matte lipstick that creates ...     NaN  lipstick   \n",
       "2  Lippie Stix Formula contains Vitamin E, Mango,...     NaN  lipstick   \n",
       "3  Developed for the Selfie Age, our buildable fu...     NaN    liquid   \n",
       "4  All of our products are free from lead and hea...     NaN  lipstick   \n",
       "5  Serum Foundations are lightweight medium-cover...     NaN    liquid   \n",
       "6  Coverage Foundations are full-coverage formula...     NaN    liquid   \n",
       "7  <strong>12 hours of long-lasting</strong> inte...     NaN    liquid   \n",
       "8  <strong>Product Description</strong>Anti-aging...     NaN       NaN   \n",
       "9  <span style=\"font-weight: 400;\">Keep it real w...     NaN    powder   \n",
       "\n",
       "  product_type                                           tag_list  \\\n",
       "0    lip_liner                          ['cruelty free', 'Vegan']   \n",
       "1     lipstick                          ['cruelty free', 'Vegan']   \n",
       "2     lipstick                          ['cruelty free', 'Vegan']   \n",
       "3   foundation                          ['cruelty free', 'Vegan']   \n",
       "4     lipstick                       ['Chemical Free', 'Organic']   \n",
       "5   foundation  ['water free', 'cruelty free', 'alcohol free',...   \n",
       "6   foundation  ['water free', 'cruelty free', 'alcohol free',...   \n",
       "7     eyeliner                            ['purpicks', 'EcoCert']   \n",
       "8    eyeshadow                            ['purpicks', 'EcoCert']   \n",
       "9   foundation        ['purpicks', 'EWG Verified', 'Gluten Free']   \n",
       "\n",
       "                 created_at                updated_at  \\\n",
       "0  2018-07-08T23:45:08.056Z  2018-07-09T00:53:23.301Z   \n",
       "1  2018-07-08T22:01:20.178Z  2018-07-09T00:53:23.287Z   \n",
       "2  2018-07-08T21:47:49.858Z  2018-07-09T00:53:23.274Z   \n",
       "3  2018-07-08T18:22:25.273Z  2018-07-09T00:53:23.313Z   \n",
       "4  2018-07-08T17:32:28.088Z  2018-09-02T22:52:06.669Z   \n",
       "5  2018-07-06T23:16:12.698Z  2018-09-02T22:52:06.882Z   \n",
       "6  2018-07-06T22:27:54.541Z  2018-09-02T22:52:06.865Z   \n",
       "7  2018-06-30T19:19:32.312Z  2018-09-02T22:52:06.723Z   \n",
       "8  2018-06-30T19:19:32.252Z  2018-09-02T22:52:06.714Z   \n",
       "9  2018-06-30T19:19:32.191Z  2018-06-30T20:26:26.417Z   \n",
       "\n",
       "                                     product_api_url  \\\n",
       "0  http://makeup-api.herokuapp.com/api/v1/product...   \n",
       "1  http://makeup-api.herokuapp.com/api/v1/product...   \n",
       "2  http://makeup-api.herokuapp.com/api/v1/product...   \n",
       "3  http://makeup-api.herokuapp.com/api/v1/product...   \n",
       "4  http://makeup-api.herokuapp.com/api/v1/product...   \n",
       "5  http://makeup-api.herokuapp.com/api/v1/product...   \n",
       "6  http://makeup-api.herokuapp.com/api/v1/product...   \n",
       "7  http://makeup-api.herokuapp.com/api/v1/product...   \n",
       "8  http://makeup-api.herokuapp.com/api/v1/product...   \n",
       "9  http://makeup-api.herokuapp.com/api/v1/product...   \n",
       "\n",
       "                                  api_featured_image  \\\n",
       "0  //s3.amazonaws.com/donovanbailey/products/api_...   \n",
       "1  //s3.amazonaws.com/donovanbailey/products/api_...   \n",
       "2  //s3.amazonaws.com/donovanbailey/products/api_...   \n",
       "3  //s3.amazonaws.com/donovanbailey/products/api_...   \n",
       "4  //s3.amazonaws.com/donovanbailey/products/api_...   \n",
       "5  //s3.amazonaws.com/donovanbailey/products/api_...   \n",
       "6  //s3.amazonaws.com/donovanbailey/products/api_...   \n",
       "7  //s3.amazonaws.com/donovanbailey/products/api_...   \n",
       "8  //s3.amazonaws.com/donovanbailey/products/api_...   \n",
       "9  //s3.amazonaws.com/donovanbailey/products/api_...   \n",
       "\n",
       "                                      product_colors  \n",
       "0  [{'hex_value': '#B28378', 'colour_name': 'BFF ...  \n",
       "1  [{'hex_value': '#b72227', 'colour_name': \"Bee'...  \n",
       "2  [{'hex_value': '#F2DEC3', 'colour_name': 'Fair...  \n",
       "3  [{'hex_value': '#F2DEC3', 'colour_name': 'Fair...  \n",
       "4  [{'hex_value': '#CB4975', 'colour_name': 'Babs...  \n",
       "5  [{'hex_value': '#f4e5d6', 'colour_name': '1.0P...  \n",
       "6  [{'hex_value': '#f4e5d6', 'colour_name': '1.0P...  \n",
       "7  [{'hex_value': '#000000', 'colour_name': 'Blac...  \n",
       "8  [{'hex_value': '#966A54', 'colour_name': 'Saha...  \n",
       "9  [{'hex_value': '#E8E6E7', 'colour_name': 'Tran...  "
      ]
     },
     "execution_count": 2,
     "metadata": {},
     "output_type": "execute_result"
    }
   ],
   "source": [
    "df=pd.read_csv(\"output.csv\")\n",
    "df.head(10)"
   ]
  },
  {
   "cell_type": "code",
   "execution_count": 3,
   "id": "1edba15f",
   "metadata": {},
   "outputs": [
    {
     "data": {
      "text/html": [
       "<div>\n",
       "<style scoped>\n",
       "    .dataframe tbody tr th:only-of-type {\n",
       "        vertical-align: middle;\n",
       "    }\n",
       "\n",
       "    .dataframe tbody tr th {\n",
       "        vertical-align: top;\n",
       "    }\n",
       "\n",
       "    .dataframe thead th {\n",
       "        text-align: right;\n",
       "    }\n",
       "</style>\n",
       "<table border=\"1\" class=\"dataframe\">\n",
       "  <thead>\n",
       "    <tr style=\"text-align: right;\">\n",
       "      <th></th>\n",
       "      <th>id</th>\n",
       "      <th>brand</th>\n",
       "      <th>name</th>\n",
       "      <th>price</th>\n",
       "      <th>price_sign</th>\n",
       "      <th>currency</th>\n",
       "      <th>image_link</th>\n",
       "      <th>product_link</th>\n",
       "      <th>website_link</th>\n",
       "      <th>description</th>\n",
       "      <th>rating</th>\n",
       "      <th>category</th>\n",
       "      <th>product_type</th>\n",
       "      <th>tag_list</th>\n",
       "      <th>created_at</th>\n",
       "      <th>updated_at</th>\n",
       "      <th>product_api_url</th>\n",
       "      <th>api_featured_image</th>\n",
       "      <th>product_colors</th>\n",
       "    </tr>\n",
       "  </thead>\n",
       "  <tbody>\n",
       "  </tbody>\n",
       "</table>\n",
       "</div>"
      ],
      "text/plain": [
       "Empty DataFrame\n",
       "Columns: [id, brand, name, price, price_sign, currency, image_link, product_link, website_link, description, rating, category, product_type, tag_list, created_at, updated_at, product_api_url, api_featured_image, product_colors]\n",
       "Index: []"
      ]
     },
     "execution_count": 3,
     "metadata": {},
     "output_type": "execute_result"
    }
   ],
   "source": []
  },
  {
   "cell_type": "code",
   "execution_count": 4,
   "id": "2e98ffec",
   "metadata": {},
   "outputs": [
    {
     "name": "stdout",
     "output_type": "stream",
     "text": [
      "minimum 1.99, maximum 77.0\n"
     ]
    }
   ],
   "source": [
    "maximum = max(df[\"price\"])\n",
    "minimum = min(df[\"price\"])\n",
    "print(f\"minimum {minimum}, maximum {maximum}\")"
   ]
  },
  {
   "cell_type": "code",
   "execution_count": 5,
   "id": "7c046b63",
   "metadata": {},
   "outputs": [
    {
     "data": {
      "text/plain": [
       "17.26"
      ]
     },
     "execution_count": 5,
     "metadata": {},
     "output_type": "execute_result"
    }
   ],
   "source": [
    "mean_price=round(df[\"price\"].agg(\"mean\"),2)\n",
    "mean_price"
   ]
  },
  {
   "cell_type": "code",
   "execution_count": 6,
   "id": "eeeb2d0e",
   "metadata": {},
   "outputs": [
    {
     "name": "stdout",
     "output_type": "stream",
     "text": [
      "размер массива (877, 19)\n"
     ]
    }
   ],
   "source": [
    "print(f\"размер массива {df.shape}\")"
   ]
  },
  {
   "cell_type": "code",
   "execution_count": 7,
   "id": "5bef71ec",
   "metadata": {},
   "outputs": [
    {
     "name": "stdout",
     "output_type": "stream",
     "text": [
      "информация о датасете\n",
      "<class 'pandas.core.frame.DataFrame'>\n",
      "Index: 877 entries, 0 to 930\n",
      "Data columns (total 19 columns):\n",
      " #   Column              Non-Null Count  Dtype  \n",
      "---  ------              --------------  -----  \n",
      " 0   id                  877 non-null    int64  \n",
      " 1   brand               865 non-null    object \n",
      " 2   name                877 non-null    object \n",
      " 3   price               877 non-null    float64\n",
      " 4   price_sign          328 non-null    object \n",
      " 5   currency            328 non-null    object \n",
      " 6   image_link          877 non-null    object \n",
      " 7   product_link        877 non-null    object \n",
      " 8   website_link        877 non-null    object \n",
      " 9   description         854 non-null    object \n",
      " 10  rating              340 non-null    float64\n",
      " 11  category            472 non-null    object \n",
      " 12  product_type        877 non-null    object \n",
      " 13  tag_list            877 non-null    object \n",
      " 14  created_at          877 non-null    object \n",
      " 15  updated_at          877 non-null    object \n",
      " 16  product_api_url     877 non-null    object \n",
      " 17  api_featured_image  877 non-null    object \n",
      " 18  product_colors      877 non-null    object \n",
      "dtypes: float64(2), int64(1), object(16)\n",
      "memory usage: 137.0+ KB\n"
     ]
    }
   ],
   "source": [
    "print(\"информация о датасете\")\n",
    "df.info()\n",
    "       "
   ]
  },
  {
   "cell_type": "code",
   "execution_count": 8,
   "id": "629adb2d",
   "metadata": {},
   "outputs": [
    {
     "name": "stdout",
     "output_type": "stream",
     "text": [
      "за Канадские доллары 7 покупок, за Американские доллары 250 покупок\n"
     ]
    }
   ],
   "source": [
    "cad=list(df[\"currency\"]).count(\"CAD\")\n",
    "usa=list(df[\"currency\"]).count(\"USD\")\n",
    "print(f\"за Канадские доллары {cad} покупок, за Американские доллары {usa} покупок\")"
   ]
  },
  {
   "cell_type": "code",
   "execution_count": 9,
   "id": "373d0740",
   "metadata": {},
   "outputs": [
    {
     "name": "stdout",
     "output_type": "stream",
     "text": [
      "информация о ценах\n"
     ]
    },
    {
     "data": {
      "text/plain": [
       "count    877.000000\n",
       "mean      17.261551\n",
       "std       10.684513\n",
       "min        1.990000\n",
       "25%        9.500000\n",
       "50%       14.790000\n",
       "75%       23.000000\n",
       "max       77.000000\n",
       "Name: price, dtype: float64"
      ]
     },
     "execution_count": 9,
     "metadata": {},
     "output_type": "execute_result"
    }
   ],
   "source": [
    "print(\"информация о ценах\")\n",
    "df[\"price\"].describe()"
   ]
  },
  {
   "cell_type": "code",
   "execution_count": 10,
   "id": "481c7ff1",
   "metadata": {},
   "outputs": [
    {
     "name": "stdout",
     "output_type": "stream",
     "text": [
      "виды категорий  pencil, lipstick, liquid, cream, concealer, powder, highlighter, gel, lip_gloss, bb_cc, palette, contour, lip_stain, mineral\n",
      "количество категорий 15\n"
     ]
    }
   ],
   "source": [
    "count_of_category = len(list(df[\"category\"].drop_duplicates()))\n",
    "print(\"виды категорий \", \", \".join(list(df[\"category\"].drop_duplicates().dropna())))\n",
    "print(f\"количество категорий {count_of_category}\")"
   ]
  },
  {
   "cell_type": "code",
   "execution_count": 11,
   "id": "9cb9159b",
   "metadata": {},
   "outputs": [
    {
     "name": "stdout",
     "output_type": "stream",
     "text": [
      "Количество брендов 44\n",
      "Все бренды - colourpop, boosh, deciem, alva, glossier, nyx, fenty, clinique, dior, benefit, smashbox, marcelle, stila, mineral fusion, annabelle, dr. hauschka, physicians formula, cargo cosmetics, covergirl, e.l.f., maybelline, almay, milani, pure anada, l'oreal, sante, revlon, anna sui, wet n wild, pacifica, mistura, zorah, suncoat, moov, misa, salon perfect, orly, china glaze, essie, butter london, sinful colours, piggy paint, dalish, burt's bees\n"
     ]
    }
   ],
   "source": [
    "brands = \", \".join(list(df[\"brand\"].drop_duplicates().dropna()))\n",
    "count_brands = len(list(df[\"brand\"].drop_duplicates().dropna()))\n",
    "\n",
    "print(\"Количество брендов\", count_brands)\n",
    "print(f\"Все бренды - {brands}\")"
   ]
  },
  {
   "cell_type": "code",
   "execution_count": 12,
   "id": "a30671d6",
   "metadata": {},
   "outputs": [
    {
     "data": {
      "text/plain": [
       "['colourpop',\n",
       " 'boosh',\n",
       " 'deciem',\n",
       " 'alva',\n",
       " 'glossier',\n",
       " 'nyx',\n",
       " 'fenty',\n",
       " 'clinique',\n",
       " 'dior',\n",
       " 'benefit',\n",
       " 'smashbox',\n",
       " 'marcelle',\n",
       " 'stila',\n",
       " 'mineral fusion',\n",
       " 'annabelle',\n",
       " 'dr. hauschka',\n",
       " 'physicians formula',\n",
       " 'cargo cosmetics',\n",
       " 'covergirl',\n",
       " 'e.l.f.',\n",
       " 'maybelline',\n",
       " 'almay',\n",
       " 'milani',\n",
       " 'pure anada',\n",
       " \"l'oreal\",\n",
       " 'sante',\n",
       " 'revlon',\n",
       " 'anna sui',\n",
       " 'wet n wild',\n",
       " 'pacifica',\n",
       " 'mistura',\n",
       " 'zorah',\n",
       " 'suncoat',\n",
       " 'moov',\n",
       " 'misa',\n",
       " 'salon perfect',\n",
       " 'orly',\n",
       " 'china glaze',\n",
       " 'essie',\n",
       " 'butter london',\n",
       " 'sinful colours',\n",
       " 'piggy paint',\n",
       " 'dalish',\n",
       " \"burt's bees\"]"
      ]
     },
     "execution_count": 12,
     "metadata": {},
     "output_type": "execute_result"
    }
   ],
   "source": [
    "list(df[\"brand\"].drop_duplicates().dropna())"
   ]
  },
  {
   "cell_type": "code",
   "execution_count": 22,
   "id": "405b8d18",
   "metadata": {},
   "outputs": [
    {
     "name": "stdout",
     "output_type": "stream",
     "text": [
      "колличество имён 877\n"
     ]
    }
   ],
   "source": [
    "names=len(list(df['name'].drop_duplicates().dropna()))\n",
    "print('колличество имён', names)\n"
   ]
  },
  {
   "cell_type": "code",
   "execution_count": null,
   "id": "ac0bf531",
   "metadata": {},
   "outputs": [],
   "source": []
  },
  {
   "cell_type": "code",
   "execution_count": null,
   "id": "bf97d57d",
   "metadata": {},
   "outputs": [],
   "source": [
    "plt.scatter(df['column1_name'], df['column2_name'])\n",
    "plt.xlabel('column1_name')\n",
    "plt.ylabel('column2_name')\n",
    "plt.title('Scatter plot of column1_name vs column2_name')\n",
    "plt.show()"
   ]
  },
  {
   "cell_type": "code",
   "execution_count": 27,
   "id": "15ab73c2",
   "metadata": {},
   "outputs": [
    {
     "data": {
      "image/png": "[encoded data removed]",
      "text/plain": [
       "<Figure size 640x480 with 1 Axes>"
      ]
     },
     "metadata": {},
     "output_type": "display_data"
    }
   ],
   "source": [
    "df['brand'].value_counts().plot(kind='bar')\n",
    "plt.xlabel('brand')\n",
    "plt.ylabel('price')\n",
    "plt.title('Bar plot of brand')\n",
    "plt.show()"
   ]
  },
  {
   "cell_type": "code",
   "execution_count": null,
   "id": "cf07e3d0",
   "metadata": {},
   "outputs": [],
   "source": []
  }
 ],
 "metadata": {
  "kernelspec": {
   "display_name": "Python 3 (ipykernel)",
   "language": "python",
   "name": "python3"
  },
  "language_info": {
   "codemirror_mode": {
    "name": "ipython",
    "version": 3
   },
   "file_extension": ".py",
   "mimetype": "text/x-python",
   "name": "python",
   "nbconvert_exporter": "python",
   "pygments_lexer": "ipython3",
   "version": "3.11.5"
  }
 },
 "nbformat": 4,
 "nbformat_minor": 5
}
